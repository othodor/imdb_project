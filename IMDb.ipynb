{
 "cells": [
  {
   "cell_type": "code",
   "execution_count": 2,
   "id": "b3f18ba1",
   "metadata": {
    "scrolled": true
   },
   "outputs": [
    {
     "data": {
      "text/html": [
       "<div>\n",
       "<style scoped>\n",
       "    .dataframe tbody tr th:only-of-type {\n",
       "        vertical-align: middle;\n",
       "    }\n",
       "\n",
       "    .dataframe tbody tr th {\n",
       "        vertical-align: top;\n",
       "    }\n",
       "\n",
       "    .dataframe thead th {\n",
       "        text-align: right;\n",
       "    }\n",
       "</style>\n",
       "<table border=\"1\" class=\"dataframe\">\n",
       "  <thead>\n",
       "    <tr style=\"text-align: right;\">\n",
       "      <th></th>\n",
       "      <th>title</th>\n",
       "      <th>original_title</th>\n",
       "      <th>movie_note</th>\n",
       "      <th>genre</th>\n",
       "      <th>date_pub</th>\n",
       "      <th>movie_runtime</th>\n",
       "      <th>public</th>\n",
       "      <th>synopsis</th>\n",
       "      <th>actors</th>\n",
       "      <th>orginal_language</th>\n",
       "      <th>country_of_origin</th>\n",
       "    </tr>\n",
       "  </thead>\n",
       "  <tbody>\n",
       "    <tr>\n",
       "      <th>0</th>\n",
       "      <td>Les Évadés</td>\n",
       "      <td>Original title: The Shawshank Redemption</td>\n",
       "      <td>9.3</td>\n",
       "      <td>Drama</td>\n",
       "      <td>1994</td>\n",
       "      <td>2, ,hours, ,22, ,minutes</td>\n",
       "      <td>Tous publics</td>\n",
       "      <td>Two imprisoned men bond over a number of years...</td>\n",
       "      <td>Tim Robbins,Morgan Freeman,Bob Gunton,William ...</td>\n",
       "      <td>English</td>\n",
       "      <td>United States</td>\n",
       "    </tr>\n",
       "    <tr>\n",
       "      <th>1</th>\n",
       "      <td>Memento</td>\n",
       "      <td>NaN</td>\n",
       "      <td>8.4</td>\n",
       "      <td>Mystery,Thriller</td>\n",
       "      <td>2000</td>\n",
       "      <td>1, ,hour, ,53, ,minutes</td>\n",
       "      <td>Tous publics</td>\n",
       "      <td>A man with short-term memory loss attempts to ...</td>\n",
       "      <td>Guy Pearce,Carrie-Anne Moss,Joe Pantoliano,Mar...</td>\n",
       "      <td>English</td>\n",
       "      <td>United States</td>\n",
       "    </tr>\n",
       "    <tr>\n",
       "      <th>2</th>\n",
       "      <td>Apocalypse Now</td>\n",
       "      <td>NaN</td>\n",
       "      <td>8.4</td>\n",
       "      <td>Drama,Mystery,War</td>\n",
       "      <td>1979</td>\n",
       "      <td>2, ,hours, ,27, ,minutes</td>\n",
       "      <td>Tous publics avec avertissement</td>\n",
       "      <td>A U.S. Army officer serving in Vietnam is task...</td>\n",
       "      <td>Martin Sheen,Marlon Brando,Robert Duvall,Frede...</td>\n",
       "      <td>English,French,Vietnamese</td>\n",
       "      <td>United States</td>\n",
       "    </tr>\n",
       "    <tr>\n",
       "      <th>3</th>\n",
       "      <td>Alien - Le 8ème passager</td>\n",
       "      <td>Original title: Alien</td>\n",
       "      <td>8.4</td>\n",
       "      <td>Horror,Sci-Fi</td>\n",
       "      <td>1979</td>\n",
       "      <td>1, ,hour, ,57, ,minutes</td>\n",
       "      <td>12</td>\n",
       "      <td>After a space merchant vessel receives an unkn...</td>\n",
       "      <td>Sigourney Weaver,Tom Skerritt,John Hurt,Veroni...</td>\n",
       "      <td>English</td>\n",
       "      <td>United Kingdom,United States</td>\n",
       "    </tr>\n",
       "    <tr>\n",
       "      <th>4</th>\n",
       "      <td>Cinéma Paradiso</td>\n",
       "      <td>Original title: Nuovo Cinema Paradiso</td>\n",
       "      <td>8.5</td>\n",
       "      <td>Drama,Romance</td>\n",
       "      <td>1988</td>\n",
       "      <td>2, ,hours, ,35, ,minutes</td>\n",
       "      <td>Tous publics</td>\n",
       "      <td>A filmmaker recalls his childhood when falling...</td>\n",
       "      <td>Philippe Noiret,Enzo Cannavale,Antonella Attil...</td>\n",
       "      <td>Italian</td>\n",
       "      <td>Italy,France</td>\n",
       "    </tr>\n",
       "    <tr>\n",
       "      <th>...</th>\n",
       "      <td>...</td>\n",
       "      <td>...</td>\n",
       "      <td>...</td>\n",
       "      <td>...</td>\n",
       "      <td>...</td>\n",
       "      <td>...</td>\n",
       "      <td>...</td>\n",
       "      <td>...</td>\n",
       "      <td>...</td>\n",
       "      <td>...</td>\n",
       "      <td>...</td>\n",
       "    </tr>\n",
       "    <tr>\n",
       "      <th>245</th>\n",
       "      <td>Pulp Fiction</td>\n",
       "      <td>NaN</td>\n",
       "      <td>8.9</td>\n",
       "      <td>Crime,Drama</td>\n",
       "      <td>1994</td>\n",
       "      <td>2, ,hours, ,34, ,minutes</td>\n",
       "      <td>12</td>\n",
       "      <td>The lives of two mob hitmen, a boxer, a gangst...</td>\n",
       "      <td>John Travolta,Uma Thurman,Samuel L. Jackson,Br...</td>\n",
       "      <td>English,Spanish,French</td>\n",
       "      <td>United States</td>\n",
       "    </tr>\n",
       "    <tr>\n",
       "      <th>246</th>\n",
       "      <td>12 Hommes en colère</td>\n",
       "      <td>Original title: 12 Angry Men</td>\n",
       "      <td>9.0</td>\n",
       "      <td>Crime,Drama</td>\n",
       "      <td>1957</td>\n",
       "      <td>1, ,hour, ,36, ,minutes</td>\n",
       "      <td>Tous publics</td>\n",
       "      <td>The jury in a New York City murder trial is fr...</td>\n",
       "      <td>Henry Fonda,Lee J. Cobb,Martin Balsam,John Fie...</td>\n",
       "      <td>English</td>\n",
       "      <td>United States</td>\n",
       "    </tr>\n",
       "    <tr>\n",
       "      <th>247</th>\n",
       "      <td>The Dark Knight : Le Chevalier noir</td>\n",
       "      <td>Original title: The Dark Knight</td>\n",
       "      <td>9.0</td>\n",
       "      <td>Action,Crime,Drama,Thriller</td>\n",
       "      <td>2008</td>\n",
       "      <td>2, ,hours, ,32, ,minutes</td>\n",
       "      <td>Tous publics</td>\n",
       "      <td>When the menace known as the Joker wreaks havo...</td>\n",
       "      <td>Christian Bale,Heath Ledger,Aaron Eckhart,Mich...</td>\n",
       "      <td>English,Mandarin</td>\n",
       "      <td>United States,United Kingdom</td>\n",
       "    </tr>\n",
       "    <tr>\n",
       "      <th>248</th>\n",
       "      <td>Le Parrain, 2ᵉ partie</td>\n",
       "      <td>Original title: The Godfather: Part II</td>\n",
       "      <td>9.0</td>\n",
       "      <td>Crime,Drama</td>\n",
       "      <td>1974</td>\n",
       "      <td>3, ,hours, ,22, ,minutes</td>\n",
       "      <td>13</td>\n",
       "      <td>The early life and career of Vito Corleone in ...</td>\n",
       "      <td>Al Pacino,Robert De Niro,Robert Duvall,Diane K...</td>\n",
       "      <td>English,Italian,Spanish,Latin,Sicilian</td>\n",
       "      <td>United States</td>\n",
       "    </tr>\n",
       "    <tr>\n",
       "      <th>249</th>\n",
       "      <td>Le Parrain</td>\n",
       "      <td>Original title: The Godfather</td>\n",
       "      <td>9.2</td>\n",
       "      <td>Crime,Drama</td>\n",
       "      <td>1972</td>\n",
       "      <td>2, ,hours, ,55, ,minutes</td>\n",
       "      <td>12</td>\n",
       "      <td>The Godfather follows Vito Corleone Don of the...</td>\n",
       "      <td>Marlon Brando,Al Pacino,James Caan,Diane Keato...</td>\n",
       "      <td>English,Italian,Latin</td>\n",
       "      <td>United States</td>\n",
       "    </tr>\n",
       "  </tbody>\n",
       "</table>\n",
       "<p>250 rows × 11 columns</p>\n",
       "</div>"
      ],
      "text/plain": [
       "                                   title  \\\n",
       "0                             Les Évadés   \n",
       "1                                Memento   \n",
       "2                         Apocalypse Now   \n",
       "3               Alien - Le 8ème passager   \n",
       "4                        Cinéma Paradiso   \n",
       "..                                   ...   \n",
       "245                         Pulp Fiction   \n",
       "246                  12 Hommes en colère   \n",
       "247  The Dark Knight : Le Chevalier noir   \n",
       "248                Le Parrain, 2ᵉ partie   \n",
       "249                           Le Parrain   \n",
       "\n",
       "                               original_title  movie_note  \\\n",
       "0    Original title: The Shawshank Redemption         9.3   \n",
       "1                                         NaN         8.4   \n",
       "2                                         NaN         8.4   \n",
       "3                       Original title: Alien         8.4   \n",
       "4       Original title: Nuovo Cinema Paradiso         8.5   \n",
       "..                                        ...         ...   \n",
       "245                                       NaN         8.9   \n",
       "246              Original title: 12 Angry Men         9.0   \n",
       "247           Original title: The Dark Knight         9.0   \n",
       "248    Original title: The Godfather: Part II         9.0   \n",
       "249             Original title: The Godfather         9.2   \n",
       "\n",
       "                           genre  date_pub             movie_runtime  \\\n",
       "0                          Drama      1994  2, ,hours, ,22, ,minutes   \n",
       "1               Mystery,Thriller      2000   1, ,hour, ,53, ,minutes   \n",
       "2              Drama,Mystery,War      1979  2, ,hours, ,27, ,minutes   \n",
       "3                  Horror,Sci-Fi      1979   1, ,hour, ,57, ,minutes   \n",
       "4                  Drama,Romance      1988  2, ,hours, ,35, ,minutes   \n",
       "..                           ...       ...                       ...   \n",
       "245                  Crime,Drama      1994  2, ,hours, ,34, ,minutes   \n",
       "246                  Crime,Drama      1957   1, ,hour, ,36, ,minutes   \n",
       "247  Action,Crime,Drama,Thriller      2008  2, ,hours, ,32, ,minutes   \n",
       "248                  Crime,Drama      1974  3, ,hours, ,22, ,minutes   \n",
       "249                  Crime,Drama      1972  2, ,hours, ,55, ,minutes   \n",
       "\n",
       "                              public  \\\n",
       "0                       Tous publics   \n",
       "1                       Tous publics   \n",
       "2    Tous publics avec avertissement   \n",
       "3                                 12   \n",
       "4                       Tous publics   \n",
       "..                               ...   \n",
       "245                               12   \n",
       "246                     Tous publics   \n",
       "247                     Tous publics   \n",
       "248                               13   \n",
       "249                               12   \n",
       "\n",
       "                                              synopsis  \\\n",
       "0    Two imprisoned men bond over a number of years...   \n",
       "1    A man with short-term memory loss attempts to ...   \n",
       "2    A U.S. Army officer serving in Vietnam is task...   \n",
       "3    After a space merchant vessel receives an unkn...   \n",
       "4    A filmmaker recalls his childhood when falling...   \n",
       "..                                                 ...   \n",
       "245  The lives of two mob hitmen, a boxer, a gangst...   \n",
       "246  The jury in a New York City murder trial is fr...   \n",
       "247  When the menace known as the Joker wreaks havo...   \n",
       "248  The early life and career of Vito Corleone in ...   \n",
       "249  The Godfather follows Vito Corleone Don of the...   \n",
       "\n",
       "                                                actors  \\\n",
       "0    Tim Robbins,Morgan Freeman,Bob Gunton,William ...   \n",
       "1    Guy Pearce,Carrie-Anne Moss,Joe Pantoliano,Mar...   \n",
       "2    Martin Sheen,Marlon Brando,Robert Duvall,Frede...   \n",
       "3    Sigourney Weaver,Tom Skerritt,John Hurt,Veroni...   \n",
       "4    Philippe Noiret,Enzo Cannavale,Antonella Attil...   \n",
       "..                                                 ...   \n",
       "245  John Travolta,Uma Thurman,Samuel L. Jackson,Br...   \n",
       "246  Henry Fonda,Lee J. Cobb,Martin Balsam,John Fie...   \n",
       "247  Christian Bale,Heath Ledger,Aaron Eckhart,Mich...   \n",
       "248  Al Pacino,Robert De Niro,Robert Duvall,Diane K...   \n",
       "249  Marlon Brando,Al Pacino,James Caan,Diane Keato...   \n",
       "\n",
       "                           orginal_language             country_of_origin  \n",
       "0                                   English                 United States  \n",
       "1                                   English                 United States  \n",
       "2                 English,French,Vietnamese                 United States  \n",
       "3                                   English  United Kingdom,United States  \n",
       "4                                   Italian                  Italy,France  \n",
       "..                                      ...                           ...  \n",
       "245                  English,Spanish,French                 United States  \n",
       "246                                 English                 United States  \n",
       "247                        English,Mandarin  United States,United Kingdom  \n",
       "248  English,Italian,Spanish,Latin,Sicilian                 United States  \n",
       "249                   English,Italian,Latin                 United States  \n",
       "\n",
       "[250 rows x 11 columns]"
      ]
     },
     "execution_count": 2,
     "metadata": {},
     "output_type": "execute_result"
    }
   ],
   "source": [
    "import pandas as pd\n",
    "data_movies = pd.read_csv(\"imdb_project/movie_crawl.csv\", sep=\",\")\n",
    "data_movies"
   ]
  },
  {
   "cell_type": "code",
   "execution_count": 163,
   "id": "0d9e36a1",
   "metadata": {},
   "outputs": [
    {
     "data": {
      "text/plain": [
       "array(['Tim Robbins', 'Morgan Freeman', 'Bob Gunton', ..., 'Gianni Russo',\n",
       "       'Al Martino', 'Lenny Montana'], dtype=object)"
      ]
     },
     "execution_count": 163,
     "metadata": {},
     "output_type": "execute_result"
    }
   ],
   "source": [
    "pd.unique(data_movies[\"actors\"].str.split(\",\").explode(\"actors\"))"
   ]
  },
  {
   "cell_type": "code",
   "execution_count": 164,
   "id": "4b6085e7",
   "metadata": {},
   "outputs": [
    {
     "data": {
      "text/plain": [
       "array(['Drama', 'Mystery', 'Thriller', 'War', 'Horror', 'Sci-Fi',\n",
       "       'Romance', 'Western', 'Biography', 'Comedy', 'Action', 'Adventure',\n",
       "       'Crime', 'Music', 'Animation', 'Family', 'Fantasy', 'History',\n",
       "       'Sport', 'Film-Noir', 'Musical'], dtype=object)"
      ]
     },
     "execution_count": 164,
     "metadata": {},
     "output_type": "execute_result"
    }
   ],
   "source": [
    "pd.unique(data_movies[\"genre\"].str.split(\",\").explode(\"genre\"))"
   ]
  },
  {
   "cell_type": "code",
   "execution_count": 16,
   "id": "3c3479c3",
   "metadata": {},
   "outputs": [
    {
     "data": {
      "text/plain": [
       "0      False\n",
       "1      False\n",
       "2      False\n",
       "3      False\n",
       "4      False\n",
       "       ...  \n",
       "245    False\n",
       "246    False\n",
       "247    False\n",
       "248     True\n",
       "249    False\n",
       "Name: orginal_language, Length: 250, dtype: bool"
      ]
     },
     "execution_count": 16,
     "metadata": {},
     "output_type": "execute_result"
    }
   ],
   "source": [
    "lang_list = pd.unique(data_movies[\"orginal_language\"].str.split(\",\").explode(\"orginal_language\"))\n",
    "mask = pd.Series(True, index=data_movies.index)\n",
    "for i in lang_list:\n",
    "    mask_1 = data_movies['orginal_language'].str.contains(i)\n",
    "mask_1"
   ]
  },
  {
   "cell_type": "code",
   "execution_count": 19,
   "id": "77fc97e1",
   "metadata": {},
   "outputs": [
    {
     "data": {
      "text/plain": [
       "0      9.3\n",
       "1      8.4\n",
       "2      8.4\n",
       "3      8.4\n",
       "4      8.5\n",
       "      ... \n",
       "245    8.9\n",
       "246    9.0\n",
       "247    9.0\n",
       "248    9.0\n",
       "249    9.2\n",
       "Name: movie_note, Length: 250, dtype: float64"
      ]
     },
     "execution_count": 19,
     "metadata": {},
     "output_type": "execute_result"
    }
   ],
   "source": [
    "data_movies[\"movie_note\"].round(decimals=2)"
   ]
  },
  {
   "cell_type": "code",
   "execution_count": 3,
   "id": "58321f36",
   "metadata": {},
   "outputs": [
    {
     "name": "stdout",
     "output_type": "stream",
     "text": [
      "Collecting missingno\n",
      "  Using cached missingno-0.5.0-py3-none-any.whl (8.8 kB)\n",
      "Collecting seaborn\n",
      "  Downloading seaborn-0.11.2-py3-none-any.whl (292 kB)\n",
      "Requirement already satisfied: numpy in c:\\users\\apprenant\\anaconda3\\envs\\imdb_project\\lib\\site-packages (from missingno) (1.21.2)\n",
      "Collecting matplotlib\n",
      "  Downloading matplotlib-3.5.0-cp39-cp39-win_amd64.whl (7.2 MB)\n",
      "Collecting scipy\n",
      "  Downloading scipy-1.7.2-cp39-cp39-win_amd64.whl (34.3 MB)\n",
      "Collecting fonttools>=4.22.0\n",
      "  Downloading fonttools-4.28.2-py3-none-any.whl (880 kB)\n",
      "Collecting setuptools-scm>=4\n",
      "  Downloading setuptools_scm-6.3.2-py3-none-any.whl (33 kB)\n",
      "Collecting pillow>=6.2.0\n",
      "  Downloading Pillow-8.4.0-cp39-cp39-win_amd64.whl (3.2 MB)\n",
      "Collecting cycler>=0.10\n",
      "  Downloading cycler-0.11.0-py3-none-any.whl (6.4 kB)\n",
      "Requirement already satisfied: pyparsing>=2.2.1 in c:\\users\\apprenant\\anaconda3\\envs\\imdb_project\\lib\\site-packages (from matplotlib->missingno) (3.0.4)\n",
      "Collecting kiwisolver>=1.0.1\n",
      "  Downloading kiwisolver-1.3.2-cp39-cp39-win_amd64.whl (52 kB)\n",
      "Requirement already satisfied: python-dateutil>=2.7 in c:\\users\\apprenant\\anaconda3\\envs\\imdb_project\\lib\\site-packages (from matplotlib->missingno) (2.8.2)\n",
      "Requirement already satisfied: packaging>=20.0 in c:\\users\\apprenant\\anaconda3\\envs\\imdb_project\\lib\\site-packages (from matplotlib->missingno) (21.3)\n",
      "Requirement already satisfied: six>=1.5 in c:\\users\\apprenant\\anaconda3\\envs\\imdb_project\\lib\\site-packages (from python-dateutil>=2.7->matplotlib->missingno) (1.16.0)\n",
      "Requirement already satisfied: setuptools in c:\\users\\apprenant\\anaconda3\\envs\\imdb_project\\lib\\site-packages (from setuptools-scm>=4->matplotlib->missingno) (58.0.4)\n",
      "Collecting tomli>=1.0.0\n",
      "  Using cached tomli-1.2.2-py3-none-any.whl (12 kB)\n",
      "Requirement already satisfied: pandas>=0.23 in c:\\users\\apprenant\\anaconda3\\envs\\imdb_project\\lib\\site-packages (from seaborn->missingno) (1.3.4)\n",
      "Requirement already satisfied: pytz>=2017.3 in c:\\users\\apprenant\\anaconda3\\envs\\imdb_project\\lib\\site-packages (from pandas>=0.23->seaborn->missingno) (2021.3)\n",
      "Installing collected packages: tomli, setuptools-scm, pillow, kiwisolver, fonttools, cycler, scipy, matplotlib, seaborn, missingno\n",
      "Successfully installed cycler-0.11.0 fonttools-4.28.2 kiwisolver-1.3.2 matplotlib-3.5.0 missingno-0.5.0 pillow-8.4.0 scipy-1.7.2 seaborn-0.11.2 setuptools-scm-6.3.2 tomli-1.2.2\n",
      "Note: you may need to restart the kernel to use updated packages.\n"
     ]
    }
   ],
   "source": [
    "pip install missingno"
   ]
  },
  {
   "cell_type": "code",
   "execution_count": 4,
   "id": "b4c7769c",
   "metadata": {},
   "outputs": [],
   "source": [
    "import missingno"
   ]
  },
  {
   "cell_type": "code",
   "execution_count": 62,
   "id": "72650f8d",
   "metadata": {},
   "outputs": [
    {
     "data": {
      "text/plain": [
       "<AxesSubplot:>"
      ]
     },
     "execution_count": 62,
     "metadata": {},
     "output_type": "execute_result"
    },
    {
     "data": {
      "image/png": "[encoded data removed]",
      "text/plain": [
       "<Figure size 1800x720 with 2 Axes>"
      ]
     },
     "metadata": {
      "needs_background": "light"
     },
     "output_type": "display_data"
    }
   ],
   "source": [
    "missingno.matrix(data_movies)"
   ]
  },
  {
   "cell_type": "code",
   "execution_count": 254,
   "id": "2a8333d8",
   "metadata": {},
   "outputs": [
    {
     "data": {
      "text/plain": [
       "0      2 hours 22 minutes\n",
       "1       1 hour 53 minutes\n",
       "2      2 hours 27 minutes\n",
       "3       1 hour 57 minutes\n",
       "4      2 hours 35 minutes\n",
       "              ...        \n",
       "245    2 hours 34 minutes\n",
       "246     1 hour 36 minutes\n",
       "247    2 hours 32 minutes\n",
       "248    3 hours 22 minutes\n",
       "249    2 hours 55 minutes\n",
       "Name: movie_runtime, Length: 250, dtype: object"
      ]
     },
     "execution_count": 254,
     "metadata": {},
     "output_type": "execute_result"
    }
   ],
   "source": [
    "import re\n",
    "a= data_movies[\"movie_runtime\"].str.replace(\",\",\"\")\n",
    "a= a.str.replace(\" \",\"\")\n",
    "#hour= a.str.split(\" \").str.get(0).values\n",
    "#minutes= a.str.split(\" \").str.get(2)\n",
    "a\n",
    "#re.search(\"\\d\", a)\n",
    "data_movies[\"movie_runtime\"].str.replace(\",\",\"\")\n",
    "#a.apply(lambda x: int(x[0])*60 + int(x[2]))"
   ]
  },
  {
   "cell_type": "code",
   "execution_count": 255,
   "id": "3431b43f",
   "metadata": {},
   "outputs": [],
   "source": [
    "hour= a.str.extract(r'(\\d+)h')\n",
    "minutes = a.str.extract(r'(\\d+)m')"
   ]
  },
  {
   "cell_type": "code",
   "execution_count": 256,
   "id": "9c8b0564",
   "metadata": {
    "scrolled": true
   },
   "outputs": [
    {
     "data": {
      "text/plain": [
       "<AxesSubplot:>"
      ]
     },
     "execution_count": 256,
     "metadata": {},
     "output_type": "execute_result"
    },
    {
     "data": {
      "image/png": "[encoded data removed]",
      "text/plain": [
       "<Figure size 1800x720 with 2 Axes>"
      ]
     },
     "metadata": {
      "needs_background": "light"
     },
     "output_type": "display_data"
    }
   ],
   "source": [
    "hour= hour.astype(\"float\")\n",
    "minutes= minutes.astype(\"float\")\n",
    "missingno.matrix(minutes)"
   ]
  },
  {
   "cell_type": "code",
   "execution_count": 257,
   "id": "0a818cf2",
   "metadata": {},
   "outputs": [
    {
     "data": {
      "text/plain": [
       "pandas.core.series.Series"
      ]
     },
     "execution_count": 257,
     "metadata": {},
     "output_type": "execute_result"
    }
   ],
   "source": [
    "hour = hour[0].fillna(0.0)\n",
    "minutes = minutes[0].fillna(0.0)\n",
    "duration = hour * 60 + minutes\n",
    "type(duration)"
   ]
  },
  {
   "cell_type": "code",
   "execution_count": 259,
   "id": "6616153e",
   "metadata": {},
   "outputs": [
    {
     "data": {
      "text/plain": [
       "<AxesSubplot:>"
      ]
     },
     "execution_count": 259,
     "metadata": {},
     "output_type": "execute_result"
    },
    {
     "data": {
      "image/png": "[encoded data removed]",
      "text/plain": [
       "<Figure size 1800x720 with 2 Axes>"
      ]
     },
     "metadata": {
      "needs_background": "light"
     },
     "output_type": "display_data"
    }
   ],
   "source": [
    "data_movies[\"duration\"] = duration\n",
    "missingno.matrix(data_movies)"
   ]
  },
  {
   "cell_type": "code",
   "execution_count": 238,
   "id": "5d371df0",
   "metadata": {},
   "outputs": [
    {
     "name": "stdout",
     "output_type": "stream",
     "text": [
      "<class 'numpy.float64'>\n",
      "<class 'numpy.float64'>\n",
      "<class 'numpy.float64'>\n",
      "<class 'numpy.float64'>\n",
      "<class 'numpy.float64'>\n",
      "<class 'numpy.float64'>\n",
      "<class 'numpy.float64'>\n",
      "<class 'numpy.float64'>\n",
      "<class 'numpy.float64'>\n",
      "<class 'numpy.float64'>\n",
      "<class 'numpy.float64'>\n",
      "<class 'numpy.float64'>\n",
      "<class 'numpy.float64'>\n",
      "<class 'numpy.float64'>\n",
      "<class 'numpy.float64'>\n",
      "<class 'numpy.float64'>\n",
      "<class 'numpy.float64'>\n",
      "<class 'numpy.float64'>\n",
      "<class 'numpy.float64'>\n",
      "<class 'numpy.float64'>\n",
      "<class 'numpy.float64'>\n",
      "<class 'numpy.float64'>\n",
      "<class 'numpy.float64'>\n",
      "<class 'numpy.float64'>\n",
      "<class 'numpy.float64'>\n",
      "<class 'numpy.float64'>\n",
      "<class 'numpy.float64'>\n",
      "<class 'numpy.float64'>\n",
      "<class 'numpy.float64'>\n",
      "<class 'numpy.float64'>\n",
      "<class 'numpy.float64'>\n",
      "<class 'numpy.float64'>\n",
      "<class 'numpy.float64'>\n",
      "<class 'numpy.float64'>\n",
      "<class 'numpy.float64'>\n",
      "<class 'numpy.float64'>\n",
      "<class 'numpy.float64'>\n",
      "<class 'numpy.float64'>\n",
      "<class 'numpy.float64'>\n",
      "<class 'numpy.float64'>\n",
      "<class 'numpy.float64'>\n",
      "<class 'numpy.float64'>\n",
      "<class 'numpy.float64'>\n",
      "<class 'numpy.float64'>\n",
      "<class 'numpy.float64'>\n",
      "<class 'numpy.float64'>\n",
      "<class 'numpy.float64'>\n",
      "<class 'numpy.float64'>\n",
      "<class 'numpy.float64'>\n",
      "<class 'numpy.float64'>\n",
      "<class 'numpy.float64'>\n",
      "<class 'numpy.float64'>\n",
      "<class 'numpy.float64'>\n",
      "<class 'numpy.float64'>\n",
      "<class 'numpy.float64'>\n",
      "<class 'numpy.float64'>\n",
      "<class 'numpy.float64'>\n",
      "<class 'numpy.float64'>\n",
      "<class 'numpy.float64'>\n",
      "<class 'numpy.float64'>\n",
      "<class 'numpy.float64'>\n",
      "<class 'numpy.float64'>\n",
      "<class 'numpy.float64'>\n",
      "<class 'numpy.float64'>\n",
      "<class 'numpy.float64'>\n",
      "<class 'numpy.float64'>\n",
      "<class 'numpy.float64'>\n",
      "<class 'numpy.float64'>\n",
      "<class 'numpy.float64'>\n",
      "<class 'numpy.float64'>\n",
      "<class 'numpy.float64'>\n",
      "<class 'numpy.float64'>\n",
      "<class 'numpy.float64'>\n",
      "<class 'numpy.float64'>\n",
      "<class 'numpy.float64'>\n",
      "<class 'numpy.float64'>\n",
      "<class 'numpy.float64'>\n",
      "<class 'numpy.float64'>\n",
      "<class 'numpy.float64'>\n",
      "<class 'numpy.float64'>\n",
      "<class 'numpy.float64'>\n",
      "<class 'numpy.float64'>\n",
      "<class 'numpy.float64'>\n",
      "<class 'numpy.float64'>\n",
      "<class 'numpy.float64'>\n",
      "<class 'numpy.float64'>\n",
      "<class 'numpy.float64'>\n",
      "<class 'numpy.float64'>\n",
      "<class 'numpy.float64'>\n",
      "<class 'numpy.float64'>\n",
      "<class 'numpy.float64'>\n",
      "<class 'numpy.float64'>\n",
      "<class 'numpy.float64'>\n",
      "<class 'numpy.float64'>\n",
      "<class 'numpy.float64'>\n",
      "<class 'numpy.float64'>\n",
      "<class 'numpy.float64'>\n",
      "<class 'numpy.float64'>\n",
      "<class 'numpy.float64'>\n",
      "<class 'numpy.float64'>\n",
      "<class 'numpy.float64'>\n",
      "<class 'numpy.float64'>\n",
      "<class 'numpy.float64'>\n",
      "<class 'numpy.float64'>\n",
      "<class 'numpy.float64'>\n",
      "<class 'numpy.float64'>\n",
      "<class 'numpy.float64'>\n",
      "<class 'numpy.float64'>\n",
      "<class 'numpy.float64'>\n",
      "<class 'numpy.float64'>\n",
      "<class 'numpy.float64'>\n",
      "<class 'numpy.float64'>\n",
      "<class 'numpy.float64'>\n",
      "<class 'numpy.float64'>\n",
      "<class 'numpy.float64'>\n",
      "<class 'numpy.float64'>\n",
      "<class 'numpy.float64'>\n",
      "<class 'numpy.float64'>\n",
      "<class 'numpy.float64'>\n",
      "<class 'numpy.float64'>\n",
      "<class 'numpy.float64'>\n",
      "<class 'numpy.float64'>\n",
      "<class 'numpy.float64'>\n",
      "<class 'numpy.float64'>\n",
      "<class 'numpy.float64'>\n",
      "<class 'numpy.float64'>\n",
      "<class 'numpy.float64'>\n",
      "<class 'numpy.float64'>\n",
      "<class 'numpy.float64'>\n",
      "<class 'numpy.float64'>\n",
      "<class 'numpy.float64'>\n",
      "<class 'numpy.float64'>\n",
      "<class 'numpy.float64'>\n",
      "<class 'numpy.float64'>\n",
      "<class 'numpy.float64'>\n",
      "<class 'numpy.float64'>\n",
      "<class 'numpy.float64'>\n",
      "<class 'numpy.float64'>\n",
      "<class 'numpy.float64'>\n",
      "<class 'numpy.float64'>\n",
      "<class 'numpy.float64'>\n",
      "<class 'numpy.float64'>\n",
      "<class 'numpy.float64'>\n",
      "<class 'numpy.float64'>\n",
      "<class 'numpy.float64'>\n",
      "<class 'numpy.float64'>\n",
      "<class 'numpy.float64'>\n",
      "<class 'numpy.float64'>\n",
      "<class 'numpy.float64'>\n",
      "<class 'numpy.float64'>\n",
      "<class 'numpy.float64'>\n",
      "<class 'numpy.float64'>\n",
      "<class 'numpy.float64'>\n",
      "<class 'numpy.float64'>\n",
      "<class 'numpy.float64'>\n",
      "<class 'numpy.float64'>\n",
      "<class 'numpy.float64'>\n",
      "<class 'numpy.float64'>\n",
      "<class 'numpy.float64'>\n",
      "<class 'numpy.float64'>\n",
      "<class 'numpy.float64'>\n",
      "<class 'numpy.float64'>\n",
      "<class 'numpy.float64'>\n",
      "<class 'numpy.float64'>\n",
      "<class 'numpy.float64'>\n",
      "<class 'numpy.float64'>\n",
      "<class 'numpy.float64'>\n",
      "<class 'numpy.float64'>\n",
      "<class 'numpy.float64'>\n",
      "<class 'numpy.float64'>\n",
      "<class 'numpy.float64'>\n",
      "<class 'numpy.float64'>\n",
      "<class 'numpy.float64'>\n",
      "<class 'numpy.float64'>\n",
      "<class 'numpy.float64'>\n",
      "<class 'numpy.float64'>\n",
      "<class 'numpy.float64'>\n",
      "<class 'numpy.float64'>\n",
      "<class 'numpy.float64'>\n",
      "<class 'numpy.float64'>\n",
      "<class 'numpy.float64'>\n",
      "<class 'numpy.float64'>\n",
      "<class 'numpy.float64'>\n",
      "<class 'numpy.float64'>\n",
      "<class 'numpy.float64'>\n",
      "<class 'numpy.float64'>\n",
      "<class 'numpy.float64'>\n",
      "<class 'numpy.float64'>\n",
      "<class 'numpy.float64'>\n",
      "<class 'numpy.float64'>\n",
      "<class 'numpy.float64'>\n",
      "<class 'numpy.float64'>\n",
      "<class 'numpy.float64'>\n",
      "<class 'numpy.float64'>\n",
      "<class 'numpy.float64'>\n",
      "<class 'numpy.float64'>\n",
      "<class 'numpy.float64'>\n",
      "<class 'numpy.float64'>\n",
      "<class 'numpy.float64'>\n",
      "<class 'numpy.float64'>\n",
      "<class 'numpy.float64'>\n",
      "<class 'numpy.float64'>\n",
      "<class 'numpy.float64'>\n",
      "<class 'numpy.float64'>\n",
      "<class 'numpy.float64'>\n",
      "<class 'numpy.float64'>\n",
      "<class 'numpy.float64'>\n",
      "<class 'numpy.float64'>\n",
      "<class 'numpy.float64'>\n",
      "<class 'numpy.float64'>\n",
      "<class 'numpy.float64'>\n",
      "<class 'numpy.float64'>\n",
      "<class 'numpy.float64'>\n",
      "<class 'numpy.float64'>\n",
      "<class 'numpy.float64'>\n",
      "<class 'numpy.float64'>\n",
      "<class 'numpy.float64'>\n",
      "<class 'numpy.float64'>\n",
      "<class 'numpy.float64'>\n",
      "<class 'numpy.float64'>\n",
      "<class 'numpy.float64'>\n",
      "<class 'numpy.float64'>\n",
      "<class 'numpy.float64'>\n",
      "<class 'numpy.float64'>\n",
      "<class 'numpy.float64'>\n",
      "<class 'numpy.float64'>\n",
      "<class 'numpy.float64'>\n",
      "<class 'numpy.float64'>\n",
      "<class 'numpy.float64'>\n",
      "<class 'numpy.float64'>\n",
      "<class 'numpy.float64'>\n",
      "<class 'numpy.float64'>\n",
      "<class 'numpy.float64'>\n",
      "<class 'numpy.float64'>\n",
      "<class 'numpy.float64'>\n",
      "<class 'numpy.float64'>\n",
      "<class 'numpy.float64'>\n",
      "<class 'numpy.float64'>\n",
      "<class 'numpy.float64'>\n",
      "<class 'numpy.float64'>\n",
      "<class 'numpy.float64'>\n",
      "<class 'numpy.float64'>\n",
      "<class 'numpy.float64'>\n",
      "<class 'numpy.float64'>\n",
      "<class 'numpy.float64'>\n",
      "<class 'numpy.float64'>\n",
      "<class 'numpy.float64'>\n",
      "<class 'numpy.float64'>\n",
      "<class 'numpy.float64'>\n",
      "<class 'numpy.float64'>\n"
     ]
    }
   ],
   "source": [
    "for i in range(len(hour[0])):\n",
    "    \n",
    "    print(type(hour[0][i]))\n",
    "#     if type(hour[0][i]) != float:\n",
    "#         hour[0][i] = 0.0\n",
    "#hour[0].unique()\n",
    "#minutes[0].unique()"
   ]
  },
  {
   "cell_type": "code",
   "execution_count": 124,
   "id": "91f4e3bd",
   "metadata": {},
   "outputs": [],
   "source": [
    "#data_movies.merge(duration, left_index=True, right_index=True)\n",
    "data_movies[\"duration\"] = hour * 60 + minutes\n",
    "#Quel est le film le plus long ?\n",
    "longest_movie = data_movies.sort_values(by=[\"duration\"], ascending=False).head(1)"
   ]
  },
  {
   "cell_type": "code",
   "execution_count": 123,
   "id": "b87a475a",
   "metadata": {},
   "outputs": [],
   "source": [
    "#Quels sont les 5 films les mieux notés ? \n",
    "best_five = data_movies.sort_values(by=[\"movie_note\"], ascending=False).head(5)"
   ]
  },
  {
   "cell_type": "code",
   "execution_count": 110,
   "id": "677d73b0",
   "metadata": {},
   "outputs": [],
   "source": [
    "#Dans combien de films a joué Morgan Freeman ? \n",
    "morgan_freeman= data_movies[data_movies[\"actors\"].str.contains('Morgan\\sFreeman', regex=True)]\n",
    "#Tom Cruise ?\n",
    "tom_cruise= data_movies[data_movies[\"actors\"].str.contains('Tom\\sCruise', regex=True)]"
   ]
  },
  {
   "cell_type": "code",
   "execution_count": 122,
   "id": "5c636004",
   "metadata": {},
   "outputs": [],
   "source": [
    "#Quels sont les 3 meilleurs films d’horreur ? \n",
    "horror = data_movies[data_movies[\"genre\"].str.contains('Horror')].sort_values(by=[\"movie_note\"], ascending=False).head(3)\n",
    "#Dramatique ? \n",
    "drama = data_movies[data_movies[\"genre\"].str.contains('Drama')].sort_values(by=[\"movie_note\"], ascending=False).head(3)\n",
    "#Comique ? \n",
    "comedy = data_movies[data_movies[\"genre\"].str.contains('Comedy')].sort_values(by=[\"movie_note\"], ascending=False).head(3)"
   ]
  },
  {
   "cell_type": "code",
   "execution_count": 135,
   "id": "ab238eee",
   "metadata": {},
   "outputs": [],
   "source": [
    "#Parmi les 100 films les mieux notés, quel pourcentage sont américains ?\n",
    "movies_100= data_movies.sort_values(by=[\"movie_note\"], ascending=False).head(100)\n",
    "us_movies_pct = len(movies_100[movies_100[\"country_of_origin\"].str.contains('United\\sStates')])\n",
    "#Français ? \n",
    "fr_movies_pct= len(movies_100[movies_100[\"country_of_origin\"].str.contains('France')])"
   ]
  },
  {
   "cell_type": "code",
   "execution_count": 140,
   "id": "18808f42",
   "metadata": {},
   "outputs": [],
   "source": [
    "#Quel est la durée moyenne d’un film en fonction du genre ? \n",
    "#Action\n",
    "action_avg= data_movies[data_movies[\"genre\"].str.contains('Action')]\n",
    "action_avg[\"duration\"].mean()\n",
    "#Adventure\n",
    "adventure_avg= data_movies[data_movies[\"genre\"].str.contains('Adventure')]\n",
    "adventure_avg[\"duration\"].mean()\n",
    "#Animation\n",
    "animation_avg= data_movies[data_movies[\"genre\"].str.contains('Animation')]\n",
    "animation_avg[\"duration\"].mean()\n",
    "#Biography\n",
    "biography_avg= data_movies[data_movies[\"genre\"].str.contains('Biography')]\n",
    "biography_avg[\"duration\"].mean()\n",
    "#Comedy\n",
    "comedy_avg= data_movies[data_movies[\"genre\"].str.contains('Comedy')]\n",
    "comedy_avg[\"duration\"].mean()\n",
    "#Crime\n",
    "crime_avg= data_movies[data_movies[\"genre\"].str.contains('Crime')]\n",
    "crime_avg[\"duration\"].mean()\n",
    "#Drama\n",
    "drama_avg= data_movies[data_movies[\"genre\"].str.contains('Drama')]\n",
    "drama_avg[\"duration\"].mean()\n",
    "#Family\n",
    "family_avg= data_movies[data_movies[\"genre\"].str.contains('Family')]\n",
    "family_avg[\"duration\"].mean()\n",
    "#Fantasy\n",
    "fantasy_avg= data_movies[data_movies[\"genre\"].str.contains('Fantasy')]\n",
    "fantasy_avg[\"duration\"].mean()\n",
    "#Film-Noir\n",
    "film_noir_avg= data_movies[data_movies[\"genre\"].str.contains('Film-Noir')]\n",
    "film_noir_avg[\"duration\"].mean()\n",
    "#History\n",
    "history_avg= data_movies[data_movies[\"genre\"].str.contains('History')]\n",
    "history_avg[\"duration\"].mean()\n",
    "#Horror\n",
    "horror_avg= data_movies[data_movies[\"genre\"].str.contains('Horror')]\n",
    "horro_avg[\"duration\"].mean()\n",
    "#Music\n",
    "music_avg= data_movies[data_movies[\"genre\"].str.contains('Music')]\n",
    "music_avg[\"duration\"].mean()\n",
    "#Musical\n",
    "musical_avg= data_movies[data_movies[\"genre\"].str.contains('Musical')]\n",
    "musical_avg[\"duration\"].mean()\n",
    "#Mystery\n",
    "mystery_avg= data_movies[data_movies[\"genre\"].str.contains('Mystery')]\n",
    "mystery_avg[\"duration\"].mean()\n",
    "#Romance\n",
    "romance_avg= data_movies[data_movies[\"genre\"].str.contains('Romance')]\n",
    "romance_avg[\"duration\"].mean()\n",
    "#Sci-Fi\n",
    "sci_fi_avg= data_movies[data_movies[\"genre\"].str.contains('Sci-Fi')]\n",
    "sci_fi_avg[\"duration\"].mean()\n",
    "#Sport\n",
    "sport_avg= data_movies[data_movies[\"genre\"].str.contains('Sport')]\n",
    "sport_avg[\"duration\"].mean()\n",
    "#Thriller\n",
    "thriller_avg= data_movies[data_movies[\"genre\"].str.contains('Thriller')]\n",
    "thriller_avg[\"duration\"].mean()\n",
    "#War\n",
    "war_avg= data_movies[data_movies[\"genre\"].str.contains('War')]\n",
    "war_avg[\"duration\"].mean()\n",
    "#Western\n",
    "western_avg= data_movies[data_movies[\"genre\"].str.contains('Western')]\n",
    "western_avg[\"duration\"].mean()"
   ]
  },
  {
   "cell_type": "code",
   "execution_count": 141,
   "id": "c10f398f",
   "metadata": {},
   "outputs": [
    {
     "data": {
      "text/plain": [
       "107.0"
      ]
     },
     "execution_count": 141,
     "metadata": {},
     "output_type": "execute_result"
    }
   ],
   "source": [
    "film_noir_avg[\"duration\"].mean()"
   ]
  },
  {
   "cell_type": "code",
   "execution_count": null,
   "id": "a4f566a8",
   "metadata": {},
   "outputs": [],
   "source": []
  }
 ],
 "metadata": {
  "kernelspec": {
   "display_name": "Python 3 (ipykernel)",
   "language": "python",
   "name": "python3"
  },
  "language_info": {
   "codemirror_mode": {
    "name": "ipython",
    "version": 3
   },
   "file_extension": ".py",
   "mimetype": "text/x-python",
   "name": "python",
   "nbconvert_exporter": "python",
   "pygments_lexer": "ipython3",
   "version": "3.9.7"
  }
 },
 "nbformat": 4,
 "nbformat_minor": 5
}
